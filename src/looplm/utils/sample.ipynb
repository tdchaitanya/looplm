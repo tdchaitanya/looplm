{
 "cells": [
  {
   "cell_type": "code",
   "execution_count": 1,
   "metadata": {},
   "outputs": [],
   "source": [
    "import nest_asyncio\n",
    "nest_asyncio.apply()"
   ]
  },
  {
   "cell_type": "code",
   "execution_count": null,
   "metadata": {},
   "outputs": [],
   "source": [
    "from looplm.config.manager import ConfigManager\n",
    "from looplm.chat.session import ChatSession\n",
    "from looplm.conversation.handler import ConversationHandler\n",
    "from looplm.commands import CommandManager\n",
    "from rich.console import Console"
   ]
  },
  {
   "cell_type": "markdown",
   "metadata": {},
   "source": [
    "### Configuration Management"
   ]
  },
  {
   "cell_type": "code",
   "execution_count": 1,
   "metadata": {},
   "outputs": [],
   "source": [
    "from looplm.config.manager import ConfigManager\n",
    "from looplm.config.providers import ProviderType\n",
    "\n",
    "# Initialize configuration manager\n",
    "config_manager = ConfigManager()\n",
    "# config_manager.load_environment(\"bedrock\")\n",
    "\n",
    "# Check if any providers are configured\n",
    "providers = config_manager.get_configured_providers()\n",
    "if not providers:\n",
    "    print(\"No providers configured\")\n",
    "else:\n",
    "    print(f\"Configured providers: {list(providers.keys())}\")\n",
    "\n",
    "# Get default provider\n",
    "default_provider, default_model = config_manager.get_default_provider()\n",
    "print(f\"Default: {default_provider.value if default_provider else 'None'} - {default_model}\")\n",
    "\n",
    "# Configure a new provider programmatically\n",
    "env_vars = {\n",
    "    \"OPENAI_API_KEY\": \"your-api-key-here\"\n",
    "}\n",
    "\n",
    "config_manager.save_provider_config(\n",
    "    provider=ProviderType.OPENAI,\n",
    "    model_name=\"gpt-4o\",\n",
    "    env_vars=env_vars,\n",
    "    is_default=True\n",
    ")"
   ]
  },
  {
   "cell_type": "markdown",
   "metadata": {},
   "source": [
    "### Chat Session"
   ]
  },
  {
   "cell_type": "code",
   "execution_count": null,
   "metadata": {},
   "outputs": [],
   "source": [
    "from looplm.chat.session import ChatSession\n",
    "from pathlib import Path\n",
    "\n",
    "# Create a new chat session\n",
    "session = ChatSession(\n",
    "    name=\"My API Session\",\n",
    "    base_path=Path.cwd()\n",
    ")\n",
    "\n",
    "# Set a system prompt\n",
    "session.set_system_prompt(\"You are a helpful Python programming assistant.\")\n",
    "\n",
    "# Send a message (this will call the LLM)\n",
    "try:\n",
    "    response = session.send_message(\n",
    "        \"What are Python decorators?\",\n",
    "        stream=False,  # Set to True for streaming\n",
    "        show_tokens=True\n",
    "    )\n",
    "    print(f\"Response: {response}\")\n",
    "except Exception as e:\n",
    "    print(f\"Error: {e}\")\n",
    "\n",
    "# Check token usage\n",
    "usage = session.total_usage\n",
    "print(f\"Total tokens: {usage.total_tokens}, Cost: ${usage.cost:.6f}\")"
   ]
  },
  {
   "cell_type": "markdown",
   "metadata": {},
   "source": [
    "### Session Management and Persistence"
   ]
  },
  {
   "cell_type": "code",
   "execution_count": null,
   "metadata": {},
   "outputs": [],
   "source": [
    "from looplm.chat.persistence import SessionManager\n",
    "\n",
    "# Initialize session manager\n",
    "session_manager = SessionManager()\n",
    "\n",
    "# Create a new session\n",
    "session = session_manager.create_session(\"API Test Session\")\n",
    "\n",
    "# Set system prompt\n",
    "session.set_system_prompt(\"You are a code reviewer.\")\n",
    "\n",
    "# Send messages\n",
    "session.send_message(\"Review this code: print('hello world')\", stream=False)\n",
    "\n",
    "# Save the session\n",
    "session_manager.save_session(session)\n",
    "print(f\"Session saved with ID: {session.id}\")\n",
    "\n",
    "# List all sessions\n",
    "sessions = session_manager.get_session_list()\n",
    "for s in sessions:\n",
    "    print(f\"ID: {s['id'][:8]}, Name: {s['name']}, Messages: {s['message_count']}\")\n",
    "\n",
    "# Load a session\n",
    "loaded_session = session_manager.load_session(session.id)\n",
    "if loaded_session:\n",
    "    print(f\"Loaded session: {loaded_session.name}\")"
   ]
  },
  {
   "cell_type": "markdown",
   "metadata": {},
   "source": [
    "### Command Processing"
   ]
  },
  {
   "cell_type": "code",
   "execution_count": null,
   "metadata": {},
   "outputs": [],
   "source": [
    "from looplm.commands import CommandManager\n",
    "import asyncio\n",
    "\n",
    "# Initialize command manager\n",
    "command_manager = CommandManager()\n",
    "\n",
    "# Process text with commands\n",
    "async def process_with_commands():\n",
    "    text = \"\"\"\n",
    "    Analyze this file: @file(example.py)\n",
    "    And also check this folder: @folder(src/)\n",
    "    Here's the output of a command: $(ls -la)\n",
    "    \"\"\"\n",
    "\n",
    "    processed_text, image_metadata = await command_manager.process_text(text)\n",
    "    print(\"Processed text:\")\n",
    "    print(processed_text)\n",
    "\n",
    "    if image_metadata:\n",
    "        print(\"Image metadata:\")\n",
    "        for img in image_metadata:\n",
    "            print(img)\n",
    "\n",
    "# Run the async function\n",
    "asyncio.run(process_with_commands())\n",
    "\n",
    "# Or use the synchronous wrapper\n",
    "processed_text, image_metadata = command_manager.process_text_sync(text)"
   ]
  },
  {
   "cell_type": "markdown",
   "metadata": {},
   "source": [
    "### Register Custom Command"
   ]
  },
  {
   "cell_type": "code",
   "execution_count": null,
   "metadata": {},
   "outputs": [],
   "source": [
    "from looplm.commands.processor import CommandProcessor, ProcessingResult\n",
    "from typing import List\n",
    "\n",
    "class DateProcessor(CommandProcessor):\n",
    "    @property\n",
    "    def name(self) -> str:\n",
    "        return \"date\"\n",
    "\n",
    "    @property\n",
    "    def description(self) -> str:\n",
    "        return \"Get current date and time\"\n",
    "\n",
    "    def validate(self, arg: str) -> bool:\n",
    "        return True  # Accept any format\n",
    "\n",
    "    async def process(self, arg: str) -> ProcessingResult:\n",
    "        import datetime\n",
    "        now = datetime.datetime.now()\n",
    "\n",
    "        if not arg.strip():\n",
    "            formatted = now.strftime(\"%Y-%m-%d %H:%M:%S\")\n",
    "        else:\n",
    "            try:\n",
    "                formatted = now.strftime(arg)\n",
    "            except ValueError:\n",
    "                return ProcessingResult(\n",
    "                    content=\"\",\n",
    "                    error=f\"Invalid date format: {arg}\"\n",
    "                )\n",
    "\n",
    "        return ProcessingResult(\n",
    "            content=f\"<@date>\\n{formatted}\\n</@date>\"\n",
    "        )\n",
    "\n",
    "    def get_completions(self, text: str) -> List[str]:\n",
    "        return [\"%Y-%m-%d\", \"%Y-%m-%d %H:%M:%S\", \"%H:%M:%S\"]\n",
    "\n",
    "# Register the custom command\n",
    "command_manager.register_command(DateProcessor)\n",
    "\n",
    "# Now you can use @date in your text\n",
    "text_with_date = \"Current time: @date(%H:%M:%S)\"\n",
    "result, _ = command_manager.process_text_sync(text_with_date)\n",
    "print(result)"
   ]
  },
  {
   "cell_type": "markdown",
   "metadata": {},
   "source": [
    "### Simple Conversation Handler"
   ]
  },
  {
   "cell_type": "code",
   "execution_count": null,
   "metadata": {},
   "outputs": [],
   "source": [
    "from looplm.conversation.handler import ConversationHandler\n",
    "from rich.console import Console\n",
    "\n",
    "# Initialize console and handler\n",
    "console = Console()\n",
    "handler = ConversationHandler(console)\n",
    "\n",
    "# Handle a prompt (processes commands and sends to LLM)\n",
    "try:\n",
    "    handler.handle_prompt(\n",
    "        \"Explain this code: @file(script.py)\",\n",
    "        provider=\"openai\",  # Optional provider override\n",
    "        model=\"gpt-4o\"      # Optional model override\n",
    "    )\n",
    "except Exception as e:\n",
    "    print(f\"Error: {e}\")"
   ]
  },
  {
   "cell_type": "markdown",
   "metadata": {},
   "source": [
    "### Debug Mode"
   ]
  },
  {
   "cell_type": "code",
   "execution_count": null,
   "metadata": {},
   "outputs": [],
   "source": [
    "# Use debug mode to see processed commands without sending to LLM\n",
    "handler = ConversationHandler(console, debug=True)\n",
    "handler.handle_prompt(\"Check this: @file(config.json) and $(pwd)\")\n",
    "# This will show the processed content without calling the LLM"
   ]
  },
  {
   "cell_type": "markdown",
   "metadata": {},
   "source": [
    "### QA Bot"
   ]
  },
  {
   "cell_type": "code",
   "execution_count": null,
   "metadata": {},
   "outputs": [],
   "source": [
    "from looplm.config.manager import ConfigManager\n",
    "from looplm.chat.session import ChatSession\n",
    "\n",
    "def create_qa_bot():\n",
    "    # Check configuration\n",
    "    config_manager = ConfigManager()\n",
    "    if not config_manager.get_configured_providers():\n",
    "        print(\"Please configure a provider first\")\n",
    "        return None\n",
    "\n",
    "    # Create session\n",
    "    session = ChatSession(name=\"QA Bot\")\n",
    "    session.set_system_prompt(\"You are a helpful assistant that gives concise answers.\")\n",
    "\n",
    "    return session\n",
    "\n",
    "def ask_question(session, question):\n",
    "    try:\n",
    "        response = session.send_message(question, stream=False)\n",
    "        return response\n",
    "    except Exception as e:\n",
    "        return f\"Error: {e}\"\n",
    "\n",
    "# Usage\n",
    "bot = create_qa_bot()\n",
    "if bot:\n",
    "    answer = ask_question(bot, \"What is Python?\")\n",
    "    print(answer)\n",
    "\n",
    "    # Check usage\n",
    "    print(f\"Tokens used: {bot.total_usage.total_tokens}\")"
   ]
  },
  {
   "cell_type": "markdown",
   "metadata": {},
   "source": [
    "### File Analysis"
   ]
  },
  {
   "cell_type": "code",
   "execution_count": null,
   "metadata": {},
   "outputs": [],
   "source": [
    "\n",
    "from looplm.commands import CommandManager\n",
    "from looplm.conversation.handler import ConversationHandler\n",
    "from rich.console import Console\n",
    "import asyncio\n",
    "\n",
    "class FileAnalyzer:\n",
    "    def __init__(self):\n",
    "        self.console = Console()\n",
    "        self.handler = ConversationHandler(self.console)\n",
    "        self.command_manager = CommandManager()\n",
    "\n",
    "    async def analyze_file(self, file_path, analysis_type=\"general\"):\n",
    "        \"\"\"Analyze a file with specific instructions\"\"\"\n",
    "\n",
    "        prompts = {\n",
    "            \"general\": f\"Analyze this file and provide a summary: @file({file_path})\",\n",
    "            \"security\": f\"Review this file for security issues: @file({file_path})\",\n",
    "            \"performance\": f\"Analyze this code for performance issues: @file({file_path})\",\n",
    "            \"documentation\": f\"Review the documentation in this file: @file({file_path})\"\n",
    "        }\n",
    "\n",
    "        prompt = prompts.get(analysis_type, prompts[\"general\"])\n",
    "\n",
    "        try:\n",
    "            # Process commands first to see what will be sent\n",
    "            processed_text, images = await self.command_manager.process_text(prompt)\n",
    "            print(\"=\"*50)\n",
    "            print(\"PROCESSED PROMPT:\")\n",
    "            print(\"=\"*50)\n",
    "            print(processed_text[:500] + \"...\" if len(processed_text) > 500 else processed_text)\n",
    "            print(\"=\"*50)\n",
    "\n",
    "            # Send to LLM\n",
    "            self.handler.handle_prompt(prompt)\n",
    "\n",
    "        except Exception as e:\n",
    "            print(f\"Error analyzing file: {e}\")\n",
    "\n",
    "    def analyze_file_sync(self, file_path, analysis_type=\"general\"):\n",
    "        \"\"\"Synchronous wrapper\"\"\"\n",
    "        asyncio.run(self.analyze_file(file_path, analysis_type))\n",
    "\n",
    "# Usage\n",
    "analyzer = FileAnalyzer()\n",
    "analyzer.analyze_file_sync(\"example.py\", \"security\")"
   ]
  },
  {
   "cell_type": "markdown",
   "metadata": {},
   "source": [
    "### Multi-session Chat"
   ]
  },
  {
   "cell_type": "code",
   "execution_count": null,
   "metadata": {},
   "outputs": [],
   "source": [
    "from looplm.chat.persistence import SessionManager\n",
    "from looplm.chat.session import ChatSession\n",
    "from typing import Dict, Optional\n",
    "\n",
    "class ChatManager:\n",
    "    def __init__(self):\n",
    "        self.session_manager = SessionManager()\n",
    "        self.sessions: Dict[str, ChatSession] = {}\n",
    "\n",
    "    def create_session(self, name: str, system_prompt: str = None) -> str:\n",
    "        \"\"\"Create a new chat session\"\"\"\n",
    "        session = self.session_manager.create_session(name)\n",
    "\n",
    "        if system_prompt:\n",
    "            session.set_system_prompt(system_prompt)\n",
    "\n",
    "        self.sessions[session.id] = session\n",
    "        return session.id\n",
    "\n",
    "    def send_message(self, session_id: str, message: str) -> str:\n",
    "        \"\"\"Send message to a specific session\"\"\"\n",
    "        if session_id not in self.sessions:\n",
    "            raise ValueError(f\"Session {session_id} not found\")\n",
    "\n",
    "        session = self.sessions[session_id]\n",
    "        return session.send_message(message, stream=False)\n",
    "\n",
    "    def save_session(self, session_id: str) -> bool:\n",
    "        \"\"\"Save a session to disk\"\"\"\n",
    "        if session_id not in self.sessions:\n",
    "            return False\n",
    "\n",
    "        session = self.sessions[session_id]\n",
    "        return self.session_manager.save_session(session)\n",
    "\n",
    "    def load_session(self, session_id: str) -> bool:\n",
    "        \"\"\"Load a session from disk\"\"\"\n",
    "        session = self.session_manager.load_session(session_id)\n",
    "        if session:\n",
    "            self.sessions[session.id] = session\n",
    "            return True\n",
    "        return False\n",
    "\n",
    "    def list_sessions(self) -> list:\n",
    "        \"\"\"List all saved sessions\"\"\"\n",
    "        return self.session_manager.get_session_list()\n",
    "\n",
    "    def get_session_usage(self, session_id: str) -> dict:\n",
    "        \"\"\"Get token usage for a session\"\"\"\n",
    "        if session_id not in self.sessions:\n",
    "            return {}\n",
    "\n",
    "        session = self.sessions[session_id]\n",
    "        return session.total_usage.to_dict()\n",
    "\n",
    "# Usage\n",
    "chat_manager = ChatManager()\n",
    "\n",
    "# Create specialized sessions\n",
    "code_session = chat_manager.create_session(\n",
    "    \"Code Helper\",\n",
    "    \"You are an expert programmer who helps with code review and debugging.\"\n",
    ")\n",
    "\n",
    "writing_session = chat_manager.create_session(\n",
    "    \"Writing Assistant\",\n",
    "    \"You are a professional editor who helps improve writing quality.\"\n",
    ")\n",
    "\n",
    "# Use sessions\n",
    "code_response = chat_manager.send_message(\n",
    "    code_session,\n",
    "    \"Review this function: @file(utils.py)\"\n",
    ")\n",
    "\n",
    "writing_response = chat_manager.send_message(\n",
    "    writing_session,\n",
    "    \"Improve this text: @file(draft.md)\"\n",
    ")\n",
    "\n",
    "# Save sessions\n",
    "chat_manager.save_session(code_session)\n",
    "chat_manager.save_session(writing_session)\n",
    "\n",
    "# Check usage\n",
    "print(\"Code session usage:\", chat_manager.get_session_usage(code_session))\n",
    "print(\"Writing session usage:\", chat_manager.get_session_usage(writing_session))"
   ]
  },
  {
   "cell_type": "markdown",
   "metadata": {},
   "source": [
    "### Batch Processing"
   ]
  },
  {
   "cell_type": "code",
   "execution_count": null,
   "metadata": {},
   "outputs": [],
   "source": [
    "\n",
    "from looplm.commands import CommandManager\n",
    "from looplm.conversation.handler import ConversationHandler\n",
    "from rich.console import Console\n",
    "from pathlib import Path\n",
    "import asyncio\n",
    "\n",
    "class BatchProcessor:\n",
    "    def __init__(self):\n",
    "        self.console = Console()\n",
    "        self.handler = ConversationHandler(self.console)\n",
    "        self.command_manager = CommandManager()\n",
    "        self.results = []\n",
    "\n",
    "    async def process_files(self, file_patterns: list, prompt_template: str):\n",
    "        \"\"\"Process multiple files with a template prompt\"\"\"\n",
    "\n",
    "        files = []\n",
    "        for pattern in file_patterns:\n",
    "            files.extend(Path.cwd().glob(pattern))\n",
    "\n",
    "        for file_path in files:\n",
    "            print(f\"\\nProcessing: {file_path}\")\n",
    "            print(\"-\" * 50)\n",
    "\n",
    "            # Create prompt for this file\n",
    "            prompt = prompt_template.format(file=str(file_path))\n",
    "\n",
    "            try:\n",
    "                # Process with command manager first\n",
    "                processed_text, images = await self.command_manager.process_text(prompt)\n",
    "\n",
    "                # Store result\n",
    "                result = {\n",
    "                    'file': str(file_path),\n",
    "                    'prompt': prompt,\n",
    "                    'processed_text': processed_text,\n",
    "                    'success': True\n",
    "                }\n",
    "\n",
    "                # Send to LLM (in real scenario)\n",
    "                # self.handler.handle_prompt(prompt)\n",
    "\n",
    "                self.results.append(result)\n",
    "\n",
    "            except Exception as e:\n",
    "                print(f\"Error processing {file_path}: {e}\")\n",
    "                self.results.append({\n",
    "                    'file': str(file_path),\n",
    "                    'error': str(e),\n",
    "                    'success': False\n",
    "                })\n",
    "\n",
    "    def generate_report(self) -> str:\n",
    "        \"\"\"Generate a summary report\"\"\"\n",
    "        successful = sum(1 for r in self.results if r.get('success', False))\n",
    "        total = len(self.results)\n",
    "\n",
    "        report = f\"Batch Processing Report\\n\"\n",
    "        report += f\"=====================\\n\"\n",
    "        report += f\"Total files: {total}\\n\"\n",
    "        report += f\"Successful: {successful}\\n\"\n",
    "        report += f\"Failed: {total - successful}\\n\\n\"\n",
    "\n",
    "        for result in self.results:\n",
    "            if result.get('success'):\n",
    "                report += f\"✓ {result['file']}\\n\"\n",
    "            else:\n",
    "                report += f\"✗ {result['file']} - {result.get('error', 'Unknown error')}\\n\"\n",
    "\n",
    "        return report\n",
    "\n",
    "# Usage\n",
    "async def main():\n",
    "    processor = BatchProcessor()\n",
    "\n",
    "    # Process all Python files\n",
    "    await processor.process_files(\n",
    "        [\"*.py\", \"src/*.py\"],\n",
    "        \"Analyze this Python file for code quality: @file({file})\"\n",
    "    )\n",
    "\n",
    "    print(processor.generate_report())\n",
    "\n",
    "# Run batch processing\n",
    "asyncio.run(main())"
   ]
  },
  {
   "cell_type": "code",
   "execution_count": null,
   "metadata": {},
   "outputs": [],
   "source": []
  },
  {
   "cell_type": "code",
   "execution_count": null,
   "metadata": {},
   "outputs": [],
   "source": []
  },
  {
   "cell_type": "code",
   "execution_count": null,
   "metadata": {},
   "outputs": [],
   "source": []
  },
  {
   "cell_type": "code",
   "execution_count": 3,
   "metadata": {
    "scrolled": true
   },
   "outputs": [
    {
     "data": {
      "text/html": [
       "<pre style=\"white-space:pre;overflow-x:auto;line-height:normal;font-family:Menlo,'DejaVu Sans Mono',consolas,'Courier New',monospace\">\n",
       "</pre>\n"
      ],
      "text/plain": [
       "\n"
      ]
     },
     "metadata": {},
     "output_type": "display_data"
    },
    {
     "data": {
      "text/html": [
       "<pre style=\"white-space:pre;overflow-x:auto;line-height:normal;font-family:Menlo,'DejaVu Sans Mono',consolas,'Courier New',monospace\"><span style=\"color: #7fff7f; text-decoration-color: #7fff7f; font-weight: bold\">08:50</span><span style=\"color: #7f7f7f; text-decoration-color: #7f7f7f\"> </span></pre>\n"
      ],
      "text/plain": [
       "\u001b[1;2;92m08:50\u001b[0m\u001b[2m \u001b[0m"
      ]
     },
     "metadata": {},
     "output_type": "display_data"
    },
    {
     "data": {
      "text/html": [
       "<pre style=\"white-space:pre;overflow-x:auto;line-height:normal;font-family:Menlo,'DejaVu Sans Mono',consolas,'Courier New',monospace\"><span style=\"color: #00ff00; text-decoration-color: #00ff00\">Assistant ▣</span>\n",
       "</pre>\n"
      ],
      "text/plain": [
       "\u001b[92mAssistant ▣\u001b[0m\n"
      ]
     },
     "metadata": {},
     "output_type": "display_data"
    },
    {
     "data": {
      "text/html": [
       "<pre style=\"white-space:pre;overflow-x:auto;line-height:normal;font-family:Menlo,'DejaVu Sans Mono',consolas,'Courier New',monospace\"></pre>\n"
      ],
      "text/plain": [
       "\u001b[?25l"
      ]
     },
     "metadata": {},
     "output_type": "display_data"
    },
    {
     "data": {
      "application/vnd.jupyter.widget-view+json": {
       "model_id": "e48c6ae9bf3448388546284326bb0036",
       "version_major": 2,
       "version_minor": 0
      },
      "text/plain": [
       "Output()"
      ]
     },
     "metadata": {},
     "output_type": "display_data"
    },
    {
     "data": {
      "text/html": [
       "<pre style=\"white-space:pre;overflow-x:auto;line-height:normal;font-family:Menlo,'DejaVu Sans Mono',consolas,'Courier New',monospace\">\n",
       "</pre>\n"
      ],
      "text/plain": [
       "\n",
       "\u001b[?25h"
      ]
     },
     "metadata": {},
     "output_type": "display_data"
    },
    {
     "name": "stdout",
     "output_type": "stream",
     "text": [
      "Response: I am doing well, thank you for asking! How are you today?\n",
      "\n"
     ]
    },
    {
     "data": {
      "text/html": [
       "<pre style=\"white-space:pre;overflow-x:auto;line-height:normal;font-family:Menlo,'DejaVu Sans Mono',consolas,'Courier New',monospace\">\n",
       "</pre>\n"
      ],
      "text/plain": [
       "\n"
      ]
     },
     "metadata": {},
     "output_type": "display_data"
    },
    {
     "data": {
      "text/html": [
       "<pre style=\"white-space:pre;overflow-x:auto;line-height:normal;font-family:Menlo,'DejaVu Sans Mono',consolas,'Courier New',monospace\"><span style=\"color: #7fff7f; text-decoration-color: #7fff7f; font-weight: bold\">08:50</span><span style=\"color: #7f7f7f; text-decoration-color: #7f7f7f\"> </span></pre>\n"
      ],
      "text/plain": [
       "\u001b[1;2;92m08:50\u001b[0m\u001b[2m \u001b[0m"
      ]
     },
     "metadata": {},
     "output_type": "display_data"
    },
    {
     "data": {
      "text/html": [
       "<pre style=\"white-space:pre;overflow-x:auto;line-height:normal;font-family:Menlo,'DejaVu Sans Mono',consolas,'Courier New',monospace\"><span style=\"color: #00ff00; text-decoration-color: #00ff00\">Assistant ▣</span>\n",
       "</pre>\n"
      ],
      "text/plain": [
       "\u001b[92mAssistant ▣\u001b[0m\n"
      ]
     },
     "metadata": {},
     "output_type": "display_data"
    },
    {
     "data": {
      "text/html": [
       "<pre style=\"white-space:pre;overflow-x:auto;line-height:normal;font-family:Menlo,'DejaVu Sans Mono',consolas,'Courier New',monospace\"></pre>\n"
      ],
      "text/plain": [
       "\u001b[?25l"
      ]
     },
     "metadata": {},
     "output_type": "display_data"
    },
    {
     "data": {
      "application/vnd.jupyter.widget-view+json": {
       "model_id": "70cede74e7ce4d2b982aac5c322121ed",
       "version_major": 2,
       "version_minor": 0
      },
      "text/plain": [
       "Output()"
      ]
     },
     "metadata": {},
     "output_type": "display_data"
    },
    {
     "data": {
      "text/html": [
       "<pre style=\"white-space:pre;overflow-x:auto;line-height:normal;font-family:Menlo,'DejaVu Sans Mono',consolas,'Courier New',monospace\">\n",
       "</pre>\n"
      ],
      "text/plain": [
       "\n",
       "\u001b[?25h"
      ]
     },
     "metadata": {},
     "output_type": "display_data"
    },
    {
     "name": "stdout",
     "output_type": "stream",
     "text": [
      "Response: Okay! Here's a breakdown of Python, covering its key aspects, history, uses, and why it's so popular:\n",
      "\n",
      "**What is Python?**\n",
      "\n",
      "Python is a high-level, general-purpose programming language.  That means:\n",
      "\n",
      "*   **High-level:** It's designed to be easy for humans to read and write, abstracting away many of the low-level details of computer hardware.\n",
      "*   **General-purpose:** It can be used for a wide variety of tasks, from web development and data science to scripting and automation.\n",
      "\n",
      "**Key Features and Characteristics:**\n",
      "\n",
      "*   **Readability:** Python emphasizes code readability.  Its syntax is clean and uses indentation to define code blocks, making it easier to understand and maintain.  This \"executable pseudocode\" approach is a major draw for beginners.\n",
      "*   **Interpreted:** Python code is executed line by line by an interpreter, rather than being compiled into machine code beforehand. This makes development faster and more flexible. (However, there are also ways to compile Python code for performance.)\n",
      "*   **Dynamically Typed:** You don't need to declare the data type of variables explicitly. Python infers the type at runtime.  This can speed up development but also requires careful testing.\n",
      "*   **Large Standard Library:** Python comes with a vast collection of built-in modules and functions that provide a wide range of functionality, from file I/O and networking to regular expressions and data structures. This means you don't have to write everything from scratch.\n",
      "*   **Extensive Third-Party Libraries:**  Beyond the standard library, Python has a massive ecosystem of third-party libraries and frameworks (often installed using `pip`, Python's package installer). These libraries extend Python's capabilities even further and are crucial for many specialized tasks. Examples include:\n",
      "    *   **NumPy:** Numerical computing and array manipulation.\n",
      "    *   **Pandas:** Data analysis and manipulation (especially for tabular data).\n",
      "    *   **Matplotlib & Seaborn:** Data visualization.\n",
      "    *   **Scikit-learn:** Machine learning.\n",
      "    *   **Django & Flask:** Web development frameworks.\n",
      "    *   **TensorFlow & PyTorch:** Deep learning.\n",
      "*   **Cross-Platform Compatibility:** Python runs on a wide range of operating systems, including Windows, macOS, Linux, and others.  This makes it easy to develop applications that can be deployed on different platforms.\n",
      "*   **Object-Oriented:** Python supports object-oriented programming (OOP) principles, allowing you to structure your code using classes and objects.\n",
      "*   **Functional Programming:** Python also supports functional programming paradigms, allowing you to write code using functions as first-class citizens.\n",
      "*   **Large and Active Community:** Python has a vibrant and supportive community of developers. This means there are plenty of resources available online, including tutorials, documentation, and forums, to help you learn and solve problems.\n",
      "\n",
      "**History:**\n",
      "\n",
      "*   Python was created by Guido van Rossum and first released in 1991.\n",
      "*   The name \"Python\" comes from the British comedy group Monty Python.\n",
      "*   Python 2.x was a widely used version, but it reached its end-of-life in 2020.\n",
      "*   Python 3.x is the current version of Python and is not fully backward-compatible with Python 2.x.  It introduced many improvements and new features.\n",
      "\n",
      "**Uses of Python:**\n",
      "\n",
      "Python is used in a wide variety of applications, including:\n",
      "\n",
      "*   **Web Development:** Building web applications and APIs using frameworks like Django and Flask.\n",
      "*   **Data Science:** Analyzing, cleaning, and visualizing data using libraries like NumPy, Pandas, Matplotlib, and Seaborn.\n",
      "*   **Machine Learning and Artificial Intelligence:** Developing machine learning models and AI applications using libraries like Scikit-learn, TensorFlow, and PyTorch.\n",
      "*   **Scripting and Automation:** Automating repetitive tasks, such as system administration, data processing, and web scraping.\n",
      "*   **Scientific Computing:** Performing scientific simulations and calculations.\n",
      "*   **Game Development:** Creating games using libraries like Pygame.\n",
      "*   **Desktop GUI Applications:** Building desktop applications with graphical user interfaces using libraries like Tkinter, PyQt, and Kivy.\n",
      "*   **Education:** Teaching programming concepts to beginners.\n",
      "*   **DevOps:** Automating infrastructure management and deployment.\n",
      "\n",
      "**Why is Python so Popular?**\n",
      "\n",
      "*   **Easy to Learn:** Its simple syntax and readability make it a great language for beginners.\n",
      "*   **Versatile:** It can be used for a wide variety of tasks.\n",
      "*   **Large Community and Ecosystem:** The abundance of libraries and resources makes it easy to find solutions to problems.\n",
      "*   **High Demand:** Python developers are in high demand in many industries.\n",
      "*   **Cross-Platform Compatibility:**  Write once, run almost anywhere.\n",
      "*   **Open Source:**  It's free to use and distribute.\n",
      "\n",
      "**Example (Simple \"Hello, world!\"):**\n",
      "\n",
      "```python\n",
      "print(\"Hello, world!\")\n",
      "```\n",
      "\n",
      "**Getting Started:**\n",
      "\n",
      "1.  **Install Python:** Download the latest version of Python from the official Python website: [https://www.python.org/downloads/](https://www.python.org/downloads/)\n",
      "2.  **Install a Code Editor or IDE:** Choose a code editor or integrated development environment (IDE) to write your Python code. Popular options include:\n",
      "    *   VS Code (with the Python extension)\n",
      "    *   PyCharm\n",
      "    *   Jupyter Notebook (for interactive data science work)\n",
      "    *   Spyder\n",
      "3.  **Learn the Basics:** Start with tutorials and online resources to learn the fundamentals of Python syntax, data types, control flow, and functions.\n",
      "4.  **Practice:** The best way to learn Python is to practice writing code. Start with small projects and gradually increase the complexity.\n",
      "\n",
      "In summary, Python is a powerful and versatile language that is widely used in a variety of industries. Its ease of use, extensive libraries, and large community make it a great choice for both beginners and experienced programmers.\n",
      "\n",
      "Do you have any specific questions about Python that I can answer?  For example, are you interested in learning about a specific use case, like web development or data science? Or would you like to see more code examples?\n",
      "\n"
     ]
    },
    {
     "data": {
      "text/plain": [
       "True"
      ]
     },
     "execution_count": 3,
     "metadata": {},
     "output_type": "execute_result"
    }
   ],
   "source": [
    "from looplm.config.manager import ConfigManager\n",
    "from looplm.chat.session import ChatSession\n",
    "from looplm.chat.persistence import SessionManager\n",
    "from looplm.utils.prompts import PromptsManager\n",
    "from pathlib import Path\n",
    "\n",
    "# Load your keys\n",
    "config_manager = ConfigManager()\n",
    "config_manager.load_environment(\"bedrock\")\n",
    "\n",
    "# Create session manager and new session\n",
    "session_manager = SessionManager()\n",
    "session = session_manager.create_session(\"My Chat Session\")\n",
    "\n",
    "# Set system prompt (optional)\n",
    "prompts_manager = PromptsManager()\n",
    "default_prompt = prompts_manager.get_prompt(\"default\")\n",
    "session.set_system_prompt(default_prompt)\n",
    "\n",
    "# Send messages\n",
    "response1 = session.send_message(\"Hello, how are you?\", stream=True)\n",
    "print(f\"Response: {response1}\")\n",
    "\n",
    "response2 = session.send_message(\"Tell me about Python\", stream=True)\n",
    "print(f\"Response: {response2}\")\n",
    "\n",
    "# Save session\n",
    "session_manager.save_session(session)"
   ]
  },
  {
   "cell_type": "code",
   "execution_count": 3,
   "metadata": {},
   "outputs": [
    {
     "ename": "Exception",
     "evalue": "Error sending message: Command processing failed:\n@file error: Invalid argument for @file: script.py",
     "output_type": "error",
     "traceback": [
      "\u001b[0;31m---------------------------------------------------------------------------\u001b[0m",
      "\u001b[0;31mException\u001b[0m                                 Traceback (most recent call last)",
      "File \u001b[0;32m~/exps/looplm/src/looplm/chat/session.py:374\u001b[0m, in \u001b[0;36mChatSession.send_message\u001b[0;34m(self, content, stream, show_tokens, debug)\u001b[0m\n\u001b[1;32m    372\u001b[0m     asyncio\u001b[38;5;241m.\u001b[39mset_event_loop(loop)\n\u001b[0;32m--> 374\u001b[0m processed_result \u001b[38;5;241m=\u001b[39m \u001b[43mloop\u001b[49m\u001b[38;5;241;43m.\u001b[39;49m\u001b[43mrun_until_complete\u001b[49m\u001b[43m(\u001b[49m\n\u001b[1;32m    375\u001b[0m \u001b[43m    \u001b[49m\u001b[43mcommand_manager\u001b[49m\u001b[38;5;241;43m.\u001b[39;49m\u001b[43mprocess_text\u001b[49m\u001b[43m(\u001b[49m\u001b[43mcontent\u001b[49m\u001b[43m)\u001b[49m\n\u001b[1;32m    376\u001b[0m \u001b[43m\u001b[49m\u001b[43m)\u001b[49m\n\u001b[1;32m    378\u001b[0m \u001b[38;5;66;03m# Unpack the result - now includes processed text and image metadata\u001b[39;00m\n",
      "File \u001b[0;32m~/.cache/pypoetry/virtualenvs/looplm-p1onydVx-py3.12/lib/python3.12/site-packages/nest_asyncio.py:98\u001b[0m, in \u001b[0;36m_patch_loop.<locals>.run_until_complete\u001b[0;34m(self, future)\u001b[0m\n\u001b[1;32m     96\u001b[0m     \u001b[38;5;28;01mraise\u001b[39;00m \u001b[38;5;167;01mRuntimeError\u001b[39;00m(\n\u001b[1;32m     97\u001b[0m         \u001b[38;5;124m'\u001b[39m\u001b[38;5;124mEvent loop stopped before Future completed.\u001b[39m\u001b[38;5;124m'\u001b[39m)\n\u001b[0;32m---> 98\u001b[0m \u001b[38;5;28;01mreturn\u001b[39;00m \u001b[43mf\u001b[49m\u001b[38;5;241;43m.\u001b[39;49m\u001b[43mresult\u001b[49m\u001b[43m(\u001b[49m\u001b[43m)\u001b[49m\n",
      "File \u001b[0;32m~/miniforge3/lib/python3.12/asyncio/futures.py:202\u001b[0m, in \u001b[0;36mFuture.result\u001b[0;34m(self)\u001b[0m\n\u001b[1;32m    201\u001b[0m \u001b[38;5;28;01mif\u001b[39;00m \u001b[38;5;28mself\u001b[39m\u001b[38;5;241m.\u001b[39m_exception \u001b[38;5;129;01mis\u001b[39;00m \u001b[38;5;129;01mnot\u001b[39;00m \u001b[38;5;28;01mNone\u001b[39;00m:\n\u001b[0;32m--> 202\u001b[0m     \u001b[38;5;28;01mraise\u001b[39;00m \u001b[38;5;28mself\u001b[39m\u001b[38;5;241m.\u001b[39m_exception\u001b[38;5;241m.\u001b[39mwith_traceback(\u001b[38;5;28mself\u001b[39m\u001b[38;5;241m.\u001b[39m_exception_tb)\n\u001b[1;32m    203\u001b[0m \u001b[38;5;28;01mreturn\u001b[39;00m \u001b[38;5;28mself\u001b[39m\u001b[38;5;241m.\u001b[39m_result\n",
      "File \u001b[0;32m~/miniforge3/lib/python3.12/asyncio/tasks.py:314\u001b[0m, in \u001b[0;36mTask.__step_run_and_handle_result\u001b[0;34m(***failed resolving arguments***)\u001b[0m\n\u001b[1;32m    311\u001b[0m \u001b[38;5;28;01mif\u001b[39;00m exc \u001b[38;5;129;01mis\u001b[39;00m \u001b[38;5;28;01mNone\u001b[39;00m:\n\u001b[1;32m    312\u001b[0m     \u001b[38;5;66;03m# We use the `send` method directly, because coroutines\u001b[39;00m\n\u001b[1;32m    313\u001b[0m     \u001b[38;5;66;03m# don't have `__iter__` and `__next__` methods.\u001b[39;00m\n\u001b[0;32m--> 314\u001b[0m     result \u001b[38;5;241m=\u001b[39m \u001b[43mcoro\u001b[49m\u001b[38;5;241;43m.\u001b[39;49m\u001b[43msend\u001b[49m\u001b[43m(\u001b[49m\u001b[38;5;28;43;01mNone\u001b[39;49;00m\u001b[43m)\u001b[49m\n\u001b[1;32m    315\u001b[0m \u001b[38;5;28;01melse\u001b[39;00m:\n",
      "File \u001b[0;32m~/exps/looplm/src/looplm/commands/manager.py:101\u001b[0m, in \u001b[0;36mCommandManager.process_text\u001b[0;34m(self, text)\u001b[0m\n\u001b[1;32m     88\u001b[0m \u001b[38;5;250m\u001b[39m\u001b[38;5;124;03m\"\"\"Process text with all registered commands\u001b[39;00m\n\u001b[1;32m     89\u001b[0m \n\u001b[1;32m     90\u001b[0m \u001b[38;5;124;03mArgs:\u001b[39;00m\n\u001b[0;32m   (...)\u001b[0m\n\u001b[1;32m     99\u001b[0m \u001b[38;5;124;03m    Exception: If command processing fails\u001b[39;00m\n\u001b[1;32m    100\u001b[0m \u001b[38;5;124;03m\"\"\"\u001b[39;00m\n\u001b[0;32m--> 101\u001b[0m \u001b[38;5;28;01mreturn\u001b[39;00m \u001b[38;5;28;01mawait\u001b[39;00m \u001b[38;5;28mself\u001b[39m\u001b[38;5;241m.\u001b[39mregistry\u001b[38;5;241m.\u001b[39mprocess_text(text)\n",
      "File \u001b[0;32m~/exps/looplm/src/looplm/commands/registry.py:201\u001b[0m, in \u001b[0;36mCommandRegistry.process_text\u001b[0;34m(self, text)\u001b[0m\n\u001b[1;32m    200\u001b[0m \u001b[38;5;28;01mif\u001b[39;00m error_messages:\n\u001b[0;32m--> 201\u001b[0m     \u001b[38;5;28;01mraise\u001b[39;00m \u001b[38;5;167;01mException\u001b[39;00m(\u001b[38;5;124m\"\u001b[39m\u001b[38;5;124mCommand processing failed:\u001b[39m\u001b[38;5;130;01m\\n\u001b[39;00m\u001b[38;5;124m\"\u001b[39m \u001b[38;5;241m+\u001b[39m \u001b[38;5;124m\"\u001b[39m\u001b[38;5;130;01m\\n\u001b[39;00m\u001b[38;5;124m\"\u001b[39m\u001b[38;5;241m.\u001b[39mjoin(error_messages))\n\u001b[1;32m    203\u001b[0m \u001b[38;5;66;03m# Combine results\u001b[39;00m\n",
      "\u001b[0;31mException\u001b[0m: Command processing failed:\n@file error: Invalid argument for @file: script.py",
      "\nDuring handling of the above exception, another exception occurred:\n",
      "\u001b[0;31mException\u001b[0m                                 Traceback (most recent call last)",
      "Cell \u001b[0;32mIn[3], line 3\u001b[0m\n\u001b[1;32m      1\u001b[0m \u001b[38;5;66;03m# File inclusion\u001b[39;00m\n\u001b[1;32m      2\u001b[0m prompt_with_file \u001b[38;5;241m=\u001b[39m \u001b[38;5;124m\"\u001b[39m\u001b[38;5;124mExplain this code: @file(script.py)\u001b[39m\u001b[38;5;124m\"\u001b[39m\n\u001b[0;32m----> 3\u001b[0m response \u001b[38;5;241m=\u001b[39m \u001b[43msession\u001b[49m\u001b[38;5;241;43m.\u001b[39;49m\u001b[43msend_message\u001b[49m\u001b[43m(\u001b[49m\u001b[43mprompt_with_file\u001b[49m\u001b[43m)\u001b[49m\n\u001b[1;32m      5\u001b[0m \u001b[38;5;66;03m# Folder analysis\u001b[39;00m\n\u001b[1;32m      6\u001b[0m prompt_with_folder \u001b[38;5;241m=\u001b[39m \u001b[38;5;124m\"\u001b[39m\u001b[38;5;124mAnalyze this project structure: @folder(./my_project)\u001b[39m\u001b[38;5;124m\"\u001b[39m\n",
      "File \u001b[0;32m~/exps/looplm/src/looplm/chat/session.py:472\u001b[0m, in \u001b[0;36mChatSession.send_message\u001b[0;34m(self, content, stream, show_tokens, debug)\u001b[0m\n\u001b[1;32m    469\u001b[0m \u001b[38;5;28;01mfrom\u001b[39;00m\u001b[38;5;250m \u001b[39m\u001b[38;5;21;01mrich\u001b[39;00m\u001b[38;5;21;01m.\u001b[39;00m\u001b[38;5;21;01mmarkup\u001b[39;00m\u001b[38;5;250m \u001b[39m\u001b[38;5;28;01mimport\u001b[39;00m escape\n\u001b[1;32m    471\u001b[0m error_message \u001b[38;5;241m=\u001b[39m escape(\u001b[38;5;28mstr\u001b[39m(e))\n\u001b[0;32m--> 472\u001b[0m \u001b[38;5;28;01mraise\u001b[39;00m \u001b[38;5;167;01mException\u001b[39;00m(\u001b[38;5;124mf\u001b[39m\u001b[38;5;124m\"\u001b[39m\u001b[38;5;124mError sending message: \u001b[39m\u001b[38;5;132;01m{\u001b[39;00merror_message\u001b[38;5;132;01m}\u001b[39;00m\u001b[38;5;124m\"\u001b[39m)\n",
      "\u001b[0;31mException\u001b[0m: Error sending message: Command processing failed:\n@file error: Invalid argument for @file: script.py"
     ]
    }
   ],
   "source": [
    "# File inclusion\n",
    "prompt_with_file = \"Explain this code: @file(script.py)\"\n",
    "response = session.send_message(prompt_with_file)\n",
    "\n",
    "# Folder analysis\n",
    "prompt_with_folder = \"Analyze this project structure: @folder(./my_project)\"\n",
    "response = session.send_message(prompt_with_folder)\n",
    "\n",
    "# Shell command output\n",
    "prompt_with_shell = \"Explain this process list: $(ps aux | head -10)\"\n",
    "response = session.send_message(prompt_with_shell)\n",
    "\n",
    "# GitHub repository\n",
    "prompt_with_github = \"Review this repo: @github(https://github.com/user/repo)\"\n",
    "response = session.send_message(prompt_with_github)"
   ]
  },
  {
   "cell_type": "code",
   "execution_count": 4,
   "metadata": {},
   "outputs": [
    {
     "data": {
      "text/plain": [
       "{'default_model': 'anthropic.claude-3-5-sonnet-20240620-v1:0',\n",
       " 'models': ['anthropic.claude-3-5-sonnet-20240620-v1:0'],\n",
       " 'env_vars': ['AWS_ACCESS_KEY_ID', 'AWS_SECRET_ACCESS_KEY', 'AWS_REGION_NAME']}"
      ]
     },
     "execution_count": 4,
     "metadata": {},
     "output_type": "execute_result"
    }
   ],
   "source": [
    "# Using specific provider and model\n",
    "session.set_model(\"claude-3-5-sonnet-20240620\", \"anthropic\")\n",
    "\n",
    "# Or create session with specific provider\n",
    "from looplm.chat.control import CommandHandler\n",
    "\n",
    "handler = CommandHandler(provider=\"anthropic\", model=\"claude-3-5-sonnet-20240620\")\n",
    "handler.start_session()  # This starts interactive mode\n",
    "\n",
    "# For programmatic use, access the session\n",
    "session = handler.session_manager.active_session\n",
    "response = session.send_message(\"Your prompt here\")\n"
   ]
  },
  {
   "cell_type": "code",
   "execution_count": 5,
   "metadata": {},
   "outputs": [],
   "source": [
    "\n",
    "# Debug mode - shows processed content without sending to LLM\n",
    "response = session.send_message(\n",
    "\"Check this file: @file(config.py)\",\n",
    "debug=True\n",
    ")"
   ]
  },
  {
   "cell_type": "code",
   "execution_count": 7,
   "metadata": {},
   "outputs": [
    {
     "data": {
      "text/plain": [
       "0.0005639999999999999"
      ]
     },
     "execution_count": 7,
     "metadata": {},
     "output_type": "execute_result"
    }
   ],
   "source": [
    "# List existing sessions\n",
    "sessions = session_manager.get_session_list()\n",
    "print(sessions)\n",
    "\n",
    "# Load existing session\n",
    "if sessions:\n",
    "    session_id = sessions[0]['id']\n",
    "    loaded_session = session_manager.load_session(session_id)\n",
    "    if loaded_session:\n",
    "        response = loaded_session.send_message(\"Continue our conversation\")\n",
    "\n",
    "# Clear session history\n",
    "session.clear_history()\n",
    "\n",
    "# Clear last N messages\n",
    "session.clear_last_messages(2)  # Clear last 2 messages\n",
    "\n",
    "# View token usage\n",
    "print(session.total_usage.to_dict())"
   ]
  },
  {
   "cell_type": "code",
   "execution_count": 3,
   "metadata": {},
   "outputs": [
    {
     "data": {
      "text/html": [
       "<pre style=\"white-space:pre;overflow-x:auto;line-height:normal;font-family:Menlo,'DejaVu Sans Mono',consolas,'Courier New',monospace\">\n",
       "</pre>\n"
      ],
      "text/plain": [
       "\n"
      ]
     },
     "metadata": {},
     "output_type": "display_data"
    },
    {
     "data": {
      "text/html": [
       "<pre style=\"white-space:pre;overflow-x:auto;line-height:normal;font-family:Menlo,'DejaVu Sans Mono',consolas,'Courier New',monospace\"><span style=\"color: #7fff7f; text-decoration-color: #7fff7f; font-weight: bold\">08:37</span><span style=\"color: #7f7f7f; text-decoration-color: #7f7f7f\"> </span></pre>\n"
      ],
      "text/plain": [
       "\u001b[1;2;92m08:37\u001b[0m\u001b[2m \u001b[0m"
      ]
     },
     "metadata": {},
     "output_type": "display_data"
    },
    {
     "data": {
      "text/html": [
       "<pre style=\"white-space:pre;overflow-x:auto;line-height:normal;font-family:Menlo,'DejaVu Sans Mono',consolas,'Courier New',monospace\"><span style=\"color: #00ff00; text-decoration-color: #00ff00\">Assistant ▣</span>\n",
       "</pre>\n"
      ],
      "text/plain": [
       "\u001b[92mAssistant ▣\u001b[0m\n"
      ]
     },
     "metadata": {},
     "output_type": "display_data"
    },
    {
     "data": {
      "text/html": [
       "<pre style=\"white-space:pre;overflow-x:auto;line-height:normal;font-family:Menlo,'DejaVu Sans Mono',consolas,'Courier New',monospace\">I'd love to!  To best help you, please tell me:                                                                    \n",
       "\n",
       "<span style=\"color: #808000; text-decoration-color: #808000; font-weight: bold\"> • </span><span style=\"font-weight: bold\">What are you trying to do?</span>  Describe the task you're trying to accomplish. The more detail you provide, the     \n",
       "<span style=\"color: #808000; text-decoration-color: #808000; font-weight: bold\">   </span>better I can understand your needs.                                                                             \n",
       "<span style=\"color: #808000; text-decoration-color: #808000; font-weight: bold\"> • </span><span style=\"font-weight: bold\">What code have you written so far?</span>  Please share any code you've already attempted.  This helps me understand   \n",
       "<span style=\"color: #808000; text-decoration-color: #808000; font-weight: bold\">   </span>your current approach and identify any potential issues. Make sure to format your code properly using backticks \n",
       "<span style=\"color: #808000; text-decoration-color: #808000; font-weight: bold\">   </span>(```) so it's easy to read.                                                                                     \n",
       "<span style=\"color: #808000; text-decoration-color: #808000; font-weight: bold\"> • </span><span style=\"font-weight: bold\">What errors are you encountering?</span> If you're getting error messages, please provide the full error message,      \n",
       "<span style=\"color: #808000; text-decoration-color: #808000; font-weight: bold\">   </span>including the traceback. This is crucial for debugging.                                                         \n",
       "<span style=\"color: #808000; text-decoration-color: #808000; font-weight: bold\"> • </span><span style=\"font-weight: bold\">What are your specific questions?</span>  What are you unsure about? Are you stuck on a particular concept or line of  \n",
       "<span style=\"color: #808000; text-decoration-color: #808000; font-weight: bold\">   </span>code?                                                                                                           \n",
       "\n",
       "For example, you could say:                                                                                        \n",
       "\n",
       "\"I'm trying to write a Python function that reads a CSV file and calculates the average value of a specific column.\n",
       "I've written some code to open the file, but I'm not sure how to read the data and perform the calculation. I'm    \n",
       "also getting a <span style=\"color: #008080; text-decoration-color: #008080; background-color: #000000; font-weight: bold\">FileNotFoundError</span>. Here's my code:\"                                                                 \n",
       "\n",
       "<span style=\"background-color: #272822\">                                                                                                                   </span>\n",
       "<span style=\"background-color: #272822\"> </span><span style=\"color: #ff4689; text-decoration-color: #ff4689; background-color: #272822\">import</span><span style=\"color: #f8f8f2; text-decoration-color: #f8f8f2; background-color: #272822\"> csv</span><span style=\"background-color: #272822\">                                                                                                        </span>\n",
       "<span style=\"background-color: #272822\">                                                                                                                   </span>\n",
       "<span style=\"background-color: #272822\"> </span><span style=\"color: #66d9ef; text-decoration-color: #66d9ef; background-color: #272822\">def</span><span style=\"color: #f8f8f2; text-decoration-color: #f8f8f2; background-color: #272822\"> </span><span style=\"color: #a6e22e; text-decoration-color: #a6e22e; background-color: #272822\">calculate_average</span><span style=\"color: #f8f8f2; text-decoration-color: #f8f8f2; background-color: #272822\">(filename, column_name):</span><span style=\"background-color: #272822\">                                                                     </span>\n",
       "<span style=\"background-color: #272822\"> </span><span style=\"color: #f8f8f2; text-decoration-color: #f8f8f2; background-color: #272822\">    </span><span style=\"color: #66d9ef; text-decoration-color: #66d9ef; background-color: #272822\">try</span><span style=\"color: #f8f8f2; text-decoration-color: #f8f8f2; background-color: #272822\">:</span><span style=\"background-color: #272822\">                                                                                                          </span>\n",
       "<span style=\"background-color: #272822\"> </span><span style=\"color: #f8f8f2; text-decoration-color: #f8f8f2; background-color: #272822\">        </span><span style=\"color: #66d9ef; text-decoration-color: #66d9ef; background-color: #272822\">with</span><span style=\"color: #f8f8f2; text-decoration-color: #f8f8f2; background-color: #272822\"> open(filename, </span><span style=\"color: #e6db74; text-decoration-color: #e6db74; background-color: #272822\">'r'</span><span style=\"color: #f8f8f2; text-decoration-color: #f8f8f2; background-color: #272822\">) </span><span style=\"color: #66d9ef; text-decoration-color: #66d9ef; background-color: #272822\">as</span><span style=\"color: #f8f8f2; text-decoration-color: #f8f8f2; background-color: #272822\"> file:</span><span style=\"background-color: #272822\">                                                                         </span>\n",
       "<span style=\"background-color: #272822\"> </span><span style=\"color: #f8f8f2; text-decoration-color: #f8f8f2; background-color: #272822\">            reader </span><span style=\"color: #ff4689; text-decoration-color: #ff4689; background-color: #272822\">=</span><span style=\"color: #f8f8f2; text-decoration-color: #f8f8f2; background-color: #272822\"> csv</span><span style=\"color: #ff4689; text-decoration-color: #ff4689; background-color: #272822\">.</span><span style=\"color: #f8f8f2; text-decoration-color: #f8f8f2; background-color: #272822\">reader(file)</span><span style=\"background-color: #272822\">                                                                             </span>\n",
       "<span style=\"background-color: #272822\"> </span><span style=\"color: #f8f8f2; text-decoration-color: #f8f8f2; background-color: #272822\">            </span><span style=\"color: #959077; text-decoration-color: #959077; background-color: #272822\"># I'm not sure what to do here to read the data and calculate the average</span><span style=\"background-color: #272822\">                             </span>\n",
       "<span style=\"background-color: #272822\"> </span><span style=\"color: #f8f8f2; text-decoration-color: #f8f8f2; background-color: #272822\">            </span><span style=\"color: #66d9ef; text-decoration-color: #66d9ef; background-color: #272822\">return</span><span style=\"color: #f8f8f2; text-decoration-color: #f8f8f2; background-color: #272822\"> </span><span style=\"color: #66d9ef; text-decoration-color: #66d9ef; background-color: #272822\">None</span><span style=\"background-color: #272822\">                                                                                           </span>\n",
       "<span style=\"background-color: #272822\"> </span><span style=\"color: #f8f8f2; text-decoration-color: #f8f8f2; background-color: #272822\">    </span><span style=\"color: #66d9ef; text-decoration-color: #66d9ef; background-color: #272822\">except</span><span style=\"color: #f8f8f2; text-decoration-color: #f8f8f2; background-color: #272822\"> </span><span style=\"color: #a6e22e; text-decoration-color: #a6e22e; background-color: #272822\">FileNotFoundError</span><span style=\"color: #f8f8f2; text-decoration-color: #f8f8f2; background-color: #272822\">:</span><span style=\"background-color: #272822\">                                                                                     </span>\n",
       "<span style=\"background-color: #272822\"> </span><span style=\"color: #f8f8f2; text-decoration-color: #f8f8f2; background-color: #272822\">        print(</span><span style=\"color: #e6db74; text-decoration-color: #e6db74; background-color: #272822\">\"Error: File not found.\"</span><span style=\"color: #f8f8f2; text-decoration-color: #f8f8f2; background-color: #272822\">)</span><span style=\"background-color: #272822\">                                                                           </span>\n",
       "<span style=\"background-color: #272822\"> </span><span style=\"color: #f8f8f2; text-decoration-color: #f8f8f2; background-color: #272822\">        </span><span style=\"color: #66d9ef; text-decoration-color: #66d9ef; background-color: #272822\">return</span><span style=\"color: #f8f8f2; text-decoration-color: #f8f8f2; background-color: #272822\"> </span><span style=\"color: #66d9ef; text-decoration-color: #66d9ef; background-color: #272822\">None</span><span style=\"background-color: #272822\">                                                                                               </span>\n",
       "<span style=\"background-color: #272822\">                                                                                                                   </span>\n",
       "<span style=\"background-color: #272822\"> </span><span style=\"color: #959077; text-decoration-color: #959077; background-color: #272822\"># Example usage</span><span style=\"background-color: #272822\">                                                                                                   </span>\n",
       "<span style=\"background-color: #272822\"> </span><span style=\"color: #f8f8f2; text-decoration-color: #f8f8f2; background-color: #272822\">filename </span><span style=\"color: #ff4689; text-decoration-color: #ff4689; background-color: #272822\">=</span><span style=\"color: #f8f8f2; text-decoration-color: #f8f8f2; background-color: #272822\"> </span><span style=\"color: #e6db74; text-decoration-color: #e6db74; background-color: #272822\">\"my_data.csv\"</span><span style=\"background-color: #272822\">                                                                                          </span>\n",
       "<span style=\"background-color: #272822\"> </span><span style=\"color: #f8f8f2; text-decoration-color: #f8f8f2; background-color: #272822\">column_name </span><span style=\"color: #ff4689; text-decoration-color: #ff4689; background-color: #272822\">=</span><span style=\"color: #f8f8f2; text-decoration-color: #f8f8f2; background-color: #272822\"> </span><span style=\"color: #e6db74; text-decoration-color: #e6db74; background-color: #272822\">\"Value\"</span><span style=\"background-color: #272822\">                                                                                             </span>\n",
       "<span style=\"background-color: #272822\"> </span><span style=\"color: #f8f8f2; text-decoration-color: #f8f8f2; background-color: #272822\">average </span><span style=\"color: #ff4689; text-decoration-color: #ff4689; background-color: #272822\">=</span><span style=\"color: #f8f8f2; text-decoration-color: #f8f8f2; background-color: #272822\"> calculate_average(filename, column_name)</span><span style=\"background-color: #272822\">                                                                </span>\n",
       "<span style=\"background-color: #272822\">                                                                                                                   </span>\n",
       "<span style=\"background-color: #272822\"> </span><span style=\"color: #66d9ef; text-decoration-color: #66d9ef; background-color: #272822\">if</span><span style=\"color: #f8f8f2; text-decoration-color: #f8f8f2; background-color: #272822\"> average </span><span style=\"color: #ff4689; text-decoration-color: #ff4689; background-color: #272822\">is</span><span style=\"color: #f8f8f2; text-decoration-color: #f8f8f2; background-color: #272822\"> </span><span style=\"color: #ff4689; text-decoration-color: #ff4689; background-color: #272822\">not</span><span style=\"color: #f8f8f2; text-decoration-color: #f8f8f2; background-color: #272822\"> </span><span style=\"color: #66d9ef; text-decoration-color: #66d9ef; background-color: #272822\">None</span><span style=\"color: #f8f8f2; text-decoration-color: #f8f8f2; background-color: #272822\">:</span><span style=\"background-color: #272822\">                                                                                           </span>\n",
       "<span style=\"background-color: #272822\"> </span><span style=\"color: #f8f8f2; text-decoration-color: #f8f8f2; background-color: #272822\">    print(</span><span style=\"color: #e6db74; text-decoration-color: #e6db74; background-color: #272822\">f\"The average of the '{</span><span style=\"color: #f8f8f2; text-decoration-color: #f8f8f2; background-color: #272822\">column_name</span><span style=\"color: #e6db74; text-decoration-color: #e6db74; background-color: #272822\">}' column is: {</span><span style=\"color: #f8f8f2; text-decoration-color: #f8f8f2; background-color: #272822\">average</span><span style=\"color: #e6db74; text-decoration-color: #e6db74; background-color: #272822\">}\"</span><span style=\"color: #f8f8f2; text-decoration-color: #f8f8f2; background-color: #272822\">)</span><span style=\"background-color: #272822\">                                             </span>\n",
       "<span style=\"background-color: #272822\">                                                                                                                   </span>\n",
       "\n",
       "The more information you give me, the better I can assist you. I can help with a wide range of Python topics,      \n",
       "including:                                                                                                         \n",
       "\n",
       "<span style=\"color: #808000; text-decoration-color: #808000; font-weight: bold\"> • </span>Basic syntax and data types                                                                                     \n",
       "<span style=\"color: #808000; text-decoration-color: #808000; font-weight: bold\"> • </span>Functions and modules                                                                                           \n",
       "<span style=\"color: #808000; text-decoration-color: #808000; font-weight: bold\"> • </span>File I/O                                                                                                        \n",
       "<span style=\"color: #808000; text-decoration-color: #808000; font-weight: bold\"> • </span>Data structures (lists, dictionaries, etc.)                                                                     \n",
       "<span style=\"color: #808000; text-decoration-color: #808000; font-weight: bold\"> • </span>Object-oriented programming                                                                                     \n",
       "<span style=\"color: #808000; text-decoration-color: #808000; font-weight: bold\"> • </span>Working with libraries like NumPy, Pandas, etc.                                                                 \n",
       "<span style=\"color: #808000; text-decoration-color: #808000; font-weight: bold\"> • </span>Debugging                                                                                                       \n",
       "<span style=\"color: #808000; text-decoration-color: #808000; font-weight: bold\"> • </span>And much more!                                                                                                  \n",
       "\n",
       "I look forward to helping you with your Python challenges!                                                         \n",
       "</pre>\n"
      ],
      "text/plain": [
       "I'd love to!  To best help you, please tell me:                                                                    \n",
       "\n",
       "\u001b[1;33m • \u001b[0m\u001b[1mWhat are you trying to do?\u001b[0m  Describe the task you're trying to accomplish. The more detail you provide, the     \n",
       "\u001b[1;33m   \u001b[0mbetter I can understand your needs.                                                                             \n",
       "\u001b[1;33m • \u001b[0m\u001b[1mWhat code have you written so far?\u001b[0m  Please share any code you've already attempted.  This helps me understand   \n",
       "\u001b[1;33m   \u001b[0myour current approach and identify any potential issues. Make sure to format your code properly using backticks \n",
       "\u001b[1;33m   \u001b[0m(```) so it's easy to read.                                                                                     \n",
       "\u001b[1;33m • \u001b[0m\u001b[1mWhat errors are you encountering?\u001b[0m If you're getting error messages, please provide the full error message,      \n",
       "\u001b[1;33m   \u001b[0mincluding the traceback. This is crucial for debugging.                                                         \n",
       "\u001b[1;33m • \u001b[0m\u001b[1mWhat are your specific questions?\u001b[0m  What are you unsure about? Are you stuck on a particular concept or line of  \n",
       "\u001b[1;33m   \u001b[0mcode?                                                                                                           \n",
       "\n",
       "For example, you could say:                                                                                        \n",
       "\n",
       "\"I'm trying to write a Python function that reads a CSV file and calculates the average value of a specific column.\n",
       "I've written some code to open the file, but I'm not sure how to read the data and perform the calculation. I'm    \n",
       "also getting a \u001b[1;36;40mFileNotFoundError\u001b[0m. Here's my code:\"                                                                 \n",
       "\n",
       "\u001b[48;2;39;40;34m                                                                                                                   \u001b[0m\n",
       "\u001b[48;2;39;40;34m \u001b[0m\u001b[38;2;255;70;137;48;2;39;40;34mimport\u001b[0m\u001b[38;2;248;248;242;48;2;39;40;34m \u001b[0m\u001b[38;2;248;248;242;48;2;39;40;34mcsv\u001b[0m\u001b[48;2;39;40;34m                                                                                                       \u001b[0m\u001b[48;2;39;40;34m \u001b[0m\n",
       "\u001b[48;2;39;40;34m \u001b[0m\u001b[48;2;39;40;34m                                                                                                                 \u001b[0m\u001b[48;2;39;40;34m \u001b[0m\n",
       "\u001b[48;2;39;40;34m \u001b[0m\u001b[38;2;102;217;239;48;2;39;40;34mdef\u001b[0m\u001b[38;2;248;248;242;48;2;39;40;34m \u001b[0m\u001b[38;2;166;226;46;48;2;39;40;34mcalculate_average\u001b[0m\u001b[38;2;248;248;242;48;2;39;40;34m(\u001b[0m\u001b[38;2;248;248;242;48;2;39;40;34mfilename\u001b[0m\u001b[38;2;248;248;242;48;2;39;40;34m,\u001b[0m\u001b[38;2;248;248;242;48;2;39;40;34m \u001b[0m\u001b[38;2;248;248;242;48;2;39;40;34mcolumn_name\u001b[0m\u001b[38;2;248;248;242;48;2;39;40;34m)\u001b[0m\u001b[38;2;248;248;242;48;2;39;40;34m:\u001b[0m\u001b[48;2;39;40;34m                                                                    \u001b[0m\u001b[48;2;39;40;34m \u001b[0m\n",
       "\u001b[48;2;39;40;34m \u001b[0m\u001b[38;2;248;248;242;48;2;39;40;34m    \u001b[0m\u001b[38;2;102;217;239;48;2;39;40;34mtry\u001b[0m\u001b[38;2;248;248;242;48;2;39;40;34m:\u001b[0m\u001b[48;2;39;40;34m                                                                                                         \u001b[0m\u001b[48;2;39;40;34m \u001b[0m\n",
       "\u001b[48;2;39;40;34m \u001b[0m\u001b[38;2;248;248;242;48;2;39;40;34m        \u001b[0m\u001b[38;2;102;217;239;48;2;39;40;34mwith\u001b[0m\u001b[38;2;248;248;242;48;2;39;40;34m \u001b[0m\u001b[38;2;248;248;242;48;2;39;40;34mopen\u001b[0m\u001b[38;2;248;248;242;48;2;39;40;34m(\u001b[0m\u001b[38;2;248;248;242;48;2;39;40;34mfilename\u001b[0m\u001b[38;2;248;248;242;48;2;39;40;34m,\u001b[0m\u001b[38;2;248;248;242;48;2;39;40;34m \u001b[0m\u001b[38;2;230;219;116;48;2;39;40;34m'\u001b[0m\u001b[38;2;230;219;116;48;2;39;40;34mr\u001b[0m\u001b[38;2;230;219;116;48;2;39;40;34m'\u001b[0m\u001b[38;2;248;248;242;48;2;39;40;34m)\u001b[0m\u001b[38;2;248;248;242;48;2;39;40;34m \u001b[0m\u001b[38;2;102;217;239;48;2;39;40;34mas\u001b[0m\u001b[38;2;248;248;242;48;2;39;40;34m \u001b[0m\u001b[38;2;248;248;242;48;2;39;40;34mfile\u001b[0m\u001b[38;2;248;248;242;48;2;39;40;34m:\u001b[0m\u001b[48;2;39;40;34m                                                                        \u001b[0m\u001b[48;2;39;40;34m \u001b[0m\n",
       "\u001b[48;2;39;40;34m \u001b[0m\u001b[38;2;248;248;242;48;2;39;40;34m            \u001b[0m\u001b[38;2;248;248;242;48;2;39;40;34mreader\u001b[0m\u001b[38;2;248;248;242;48;2;39;40;34m \u001b[0m\u001b[38;2;255;70;137;48;2;39;40;34m=\u001b[0m\u001b[38;2;248;248;242;48;2;39;40;34m \u001b[0m\u001b[38;2;248;248;242;48;2;39;40;34mcsv\u001b[0m\u001b[38;2;255;70;137;48;2;39;40;34m.\u001b[0m\u001b[38;2;248;248;242;48;2;39;40;34mreader\u001b[0m\u001b[38;2;248;248;242;48;2;39;40;34m(\u001b[0m\u001b[38;2;248;248;242;48;2;39;40;34mfile\u001b[0m\u001b[38;2;248;248;242;48;2;39;40;34m)\u001b[0m\u001b[48;2;39;40;34m                                                                            \u001b[0m\u001b[48;2;39;40;34m \u001b[0m\n",
       "\u001b[48;2;39;40;34m \u001b[0m\u001b[38;2;248;248;242;48;2;39;40;34m            \u001b[0m\u001b[38;2;149;144;119;48;2;39;40;34m# I'm not sure what to do here to read the data and calculate the average\u001b[0m\u001b[48;2;39;40;34m                            \u001b[0m\u001b[48;2;39;40;34m \u001b[0m\n",
       "\u001b[48;2;39;40;34m \u001b[0m\u001b[38;2;248;248;242;48;2;39;40;34m            \u001b[0m\u001b[38;2;102;217;239;48;2;39;40;34mreturn\u001b[0m\u001b[38;2;248;248;242;48;2;39;40;34m \u001b[0m\u001b[38;2;102;217;239;48;2;39;40;34mNone\u001b[0m\u001b[48;2;39;40;34m                                                                                          \u001b[0m\u001b[48;2;39;40;34m \u001b[0m\n",
       "\u001b[48;2;39;40;34m \u001b[0m\u001b[38;2;248;248;242;48;2;39;40;34m    \u001b[0m\u001b[38;2;102;217;239;48;2;39;40;34mexcept\u001b[0m\u001b[38;2;248;248;242;48;2;39;40;34m \u001b[0m\u001b[38;2;166;226;46;48;2;39;40;34mFileNotFoundError\u001b[0m\u001b[38;2;248;248;242;48;2;39;40;34m:\u001b[0m\u001b[48;2;39;40;34m                                                                                    \u001b[0m\u001b[48;2;39;40;34m \u001b[0m\n",
       "\u001b[48;2;39;40;34m \u001b[0m\u001b[38;2;248;248;242;48;2;39;40;34m        \u001b[0m\u001b[38;2;248;248;242;48;2;39;40;34mprint\u001b[0m\u001b[38;2;248;248;242;48;2;39;40;34m(\u001b[0m\u001b[38;2;230;219;116;48;2;39;40;34m\"\u001b[0m\u001b[38;2;230;219;116;48;2;39;40;34mError: File not found.\u001b[0m\u001b[38;2;230;219;116;48;2;39;40;34m\"\u001b[0m\u001b[38;2;248;248;242;48;2;39;40;34m)\u001b[0m\u001b[48;2;39;40;34m                                                                          \u001b[0m\u001b[48;2;39;40;34m \u001b[0m\n",
       "\u001b[48;2;39;40;34m \u001b[0m\u001b[38;2;248;248;242;48;2;39;40;34m        \u001b[0m\u001b[38;2;102;217;239;48;2;39;40;34mreturn\u001b[0m\u001b[38;2;248;248;242;48;2;39;40;34m \u001b[0m\u001b[38;2;102;217;239;48;2;39;40;34mNone\u001b[0m\u001b[48;2;39;40;34m                                                                                              \u001b[0m\u001b[48;2;39;40;34m \u001b[0m\n",
       "\u001b[48;2;39;40;34m \u001b[0m\u001b[48;2;39;40;34m                                                                                                                 \u001b[0m\u001b[48;2;39;40;34m \u001b[0m\n",
       "\u001b[48;2;39;40;34m \u001b[0m\u001b[38;2;149;144;119;48;2;39;40;34m# Example usage\u001b[0m\u001b[48;2;39;40;34m                                                                                                  \u001b[0m\u001b[48;2;39;40;34m \u001b[0m\n",
       "\u001b[48;2;39;40;34m \u001b[0m\u001b[38;2;248;248;242;48;2;39;40;34mfilename\u001b[0m\u001b[38;2;248;248;242;48;2;39;40;34m \u001b[0m\u001b[38;2;255;70;137;48;2;39;40;34m=\u001b[0m\u001b[38;2;248;248;242;48;2;39;40;34m \u001b[0m\u001b[38;2;230;219;116;48;2;39;40;34m\"\u001b[0m\u001b[38;2;230;219;116;48;2;39;40;34mmy_data.csv\u001b[0m\u001b[38;2;230;219;116;48;2;39;40;34m\"\u001b[0m\u001b[48;2;39;40;34m                                                                                         \u001b[0m\u001b[48;2;39;40;34m \u001b[0m\n",
       "\u001b[48;2;39;40;34m \u001b[0m\u001b[38;2;248;248;242;48;2;39;40;34mcolumn_name\u001b[0m\u001b[38;2;248;248;242;48;2;39;40;34m \u001b[0m\u001b[38;2;255;70;137;48;2;39;40;34m=\u001b[0m\u001b[38;2;248;248;242;48;2;39;40;34m \u001b[0m\u001b[38;2;230;219;116;48;2;39;40;34m\"\u001b[0m\u001b[38;2;230;219;116;48;2;39;40;34mValue\u001b[0m\u001b[38;2;230;219;116;48;2;39;40;34m\"\u001b[0m\u001b[48;2;39;40;34m                                                                                            \u001b[0m\u001b[48;2;39;40;34m \u001b[0m\n",
       "\u001b[48;2;39;40;34m \u001b[0m\u001b[38;2;248;248;242;48;2;39;40;34maverage\u001b[0m\u001b[38;2;248;248;242;48;2;39;40;34m \u001b[0m\u001b[38;2;255;70;137;48;2;39;40;34m=\u001b[0m\u001b[38;2;248;248;242;48;2;39;40;34m \u001b[0m\u001b[38;2;248;248;242;48;2;39;40;34mcalculate_average\u001b[0m\u001b[38;2;248;248;242;48;2;39;40;34m(\u001b[0m\u001b[38;2;248;248;242;48;2;39;40;34mfilename\u001b[0m\u001b[38;2;248;248;242;48;2;39;40;34m,\u001b[0m\u001b[38;2;248;248;242;48;2;39;40;34m \u001b[0m\u001b[38;2;248;248;242;48;2;39;40;34mcolumn_name\u001b[0m\u001b[38;2;248;248;242;48;2;39;40;34m)\u001b[0m\u001b[48;2;39;40;34m                                                               \u001b[0m\u001b[48;2;39;40;34m \u001b[0m\n",
       "\u001b[48;2;39;40;34m \u001b[0m\u001b[48;2;39;40;34m                                                                                                                 \u001b[0m\u001b[48;2;39;40;34m \u001b[0m\n",
       "\u001b[48;2;39;40;34m \u001b[0m\u001b[38;2;102;217;239;48;2;39;40;34mif\u001b[0m\u001b[38;2;248;248;242;48;2;39;40;34m \u001b[0m\u001b[38;2;248;248;242;48;2;39;40;34maverage\u001b[0m\u001b[38;2;248;248;242;48;2;39;40;34m \u001b[0m\u001b[38;2;255;70;137;48;2;39;40;34mis\u001b[0m\u001b[38;2;248;248;242;48;2;39;40;34m \u001b[0m\u001b[38;2;255;70;137;48;2;39;40;34mnot\u001b[0m\u001b[38;2;248;248;242;48;2;39;40;34m \u001b[0m\u001b[38;2;102;217;239;48;2;39;40;34mNone\u001b[0m\u001b[38;2;248;248;242;48;2;39;40;34m:\u001b[0m\u001b[48;2;39;40;34m                                                                                          \u001b[0m\u001b[48;2;39;40;34m \u001b[0m\n",
       "\u001b[48;2;39;40;34m \u001b[0m\u001b[38;2;248;248;242;48;2;39;40;34m    \u001b[0m\u001b[38;2;248;248;242;48;2;39;40;34mprint\u001b[0m\u001b[38;2;248;248;242;48;2;39;40;34m(\u001b[0m\u001b[38;2;230;219;116;48;2;39;40;34mf\u001b[0m\u001b[38;2;230;219;116;48;2;39;40;34m\"\u001b[0m\u001b[38;2;230;219;116;48;2;39;40;34mThe average of the \u001b[0m\u001b[38;2;230;219;116;48;2;39;40;34m'\u001b[0m\u001b[38;2;230;219;116;48;2;39;40;34m{\u001b[0m\u001b[38;2;248;248;242;48;2;39;40;34mcolumn_name\u001b[0m\u001b[38;2;230;219;116;48;2;39;40;34m}\u001b[0m\u001b[38;2;230;219;116;48;2;39;40;34m'\u001b[0m\u001b[38;2;230;219;116;48;2;39;40;34m column is: \u001b[0m\u001b[38;2;230;219;116;48;2;39;40;34m{\u001b[0m\u001b[38;2;248;248;242;48;2;39;40;34maverage\u001b[0m\u001b[38;2;230;219;116;48;2;39;40;34m}\u001b[0m\u001b[38;2;230;219;116;48;2;39;40;34m\"\u001b[0m\u001b[38;2;248;248;242;48;2;39;40;34m)\u001b[0m\u001b[48;2;39;40;34m                                            \u001b[0m\u001b[48;2;39;40;34m \u001b[0m\n",
       "\u001b[48;2;39;40;34m                                                                                                                   \u001b[0m\n",
       "\n",
       "The more information you give me, the better I can assist you. I can help with a wide range of Python topics,      \n",
       "including:                                                                                                         \n",
       "\n",
       "\u001b[1;33m • \u001b[0mBasic syntax and data types                                                                                     \n",
       "\u001b[1;33m • \u001b[0mFunctions and modules                                                                                           \n",
       "\u001b[1;33m • \u001b[0mFile I/O                                                                                                        \n",
       "\u001b[1;33m • \u001b[0mData structures (lists, dictionaries, etc.)                                                                     \n",
       "\u001b[1;33m • \u001b[0mObject-oriented programming                                                                                     \n",
       "\u001b[1;33m • \u001b[0mWorking with libraries like NumPy, Pandas, etc.                                                                 \n",
       "\u001b[1;33m • \u001b[0mDebugging                                                                                                       \n",
       "\u001b[1;33m • \u001b[0mAnd much more!                                                                                                  \n",
       "\n",
       "I look forward to helping you with your Python challenges!                                                         \n"
      ]
     },
     "metadata": {},
     "output_type": "display_data"
    },
    {
     "name": "stdout",
     "output_type": "stream",
     "text": [
      "Assistant: I'd love to!  To best help you, please tell me:\n",
      "\n",
      "*   **What are you trying to do?**  Describe the task you're trying to accomplish. The more detail you provide, the better I can understand your needs.\n",
      "*   **What code have you written so far?**  Please share any code you've already attempted.  This helps me understand your current approach and identify any potential issues. Make sure to format your code properly using backticks (```) so it's easy to read.\n",
      "*   **What errors are you encountering?** If you're getting error messages, please provide the full error message, including the traceback. This is crucial for debugging.\n",
      "*   **What are your specific questions?**  What are you unsure about? Are you stuck on a particular concept or line of code?\n",
      "\n",
      "For example, you could say:\n",
      "\n",
      "\"I'm trying to write a Python function that reads a CSV file and calculates the average value of a specific column. I've written some code to open the file, but I'm not sure how to read the data and perform the calculation. I'm also getting a `FileNotFoundError`. Here's my code:\"\n",
      "\n",
      "```python\n",
      "import csv\n",
      "\n",
      "def calculate_average(filename, column_name):\n",
      "    try:\n",
      "        with open(filename, 'r') as file:\n",
      "            reader = csv.reader(file)\n",
      "            # I'm not sure what to do here to read the data and calculate the average\n",
      "            return None\n",
      "    except FileNotFoundError:\n",
      "        print(\"Error: File not found.\")\n",
      "        return None\n",
      "\n",
      "# Example usage\n",
      "filename = \"my_data.csv\"\n",
      "column_name = \"Value\"\n",
      "average = calculate_average(filename, column_name)\n",
      "\n",
      "if average is not None:\n",
      "    print(f\"The average of the '{column_name}' column is: {average}\")\n",
      "```\n",
      "\n",
      "The more information you give me, the better I can assist you. I can help with a wide range of Python topics, including:\n",
      "\n",
      "*   Basic syntax and data types\n",
      "*   Functions and modules\n",
      "*   File I/O\n",
      "*   Data structures (lists, dictionaries, etc.)\n",
      "*   Object-oriented programming\n",
      "*   Working with libraries like NumPy, Pandas, etc.\n",
      "*   Debugging\n",
      "*   And much more!\n",
      "\n",
      "I look forward to helping you with your Python challenges!\n",
      "\n"
     ]
    },
    {
     "data": {
      "text/html": [
       "<pre style=\"white-space:pre;overflow-x:auto;line-height:normal;font-family:Menlo,'DejaVu Sans Mono',consolas,'Courier New',monospace\">\n",
       "</pre>\n"
      ],
      "text/plain": [
       "\n"
      ]
     },
     "metadata": {},
     "output_type": "display_data"
    },
    {
     "data": {
      "text/html": [
       "<pre style=\"white-space:pre;overflow-x:auto;line-height:normal;font-family:Menlo,'DejaVu Sans Mono',consolas,'Courier New',monospace\"><span style=\"color: #7fff7f; text-decoration-color: #7fff7f; font-weight: bold\">08:37</span><span style=\"color: #7f7f7f; text-decoration-color: #7f7f7f\"> </span></pre>\n"
      ],
      "text/plain": [
       "\u001b[1;2;92m08:37\u001b[0m\u001b[2m \u001b[0m"
      ]
     },
     "metadata": {},
     "output_type": "display_data"
    },
    {
     "data": {
      "text/html": [
       "<pre style=\"white-space:pre;overflow-x:auto;line-height:normal;font-family:Menlo,'DejaVu Sans Mono',consolas,'Courier New',monospace\"><span style=\"color: #00ff00; text-decoration-color: #00ff00\">Assistant ▣</span>\n",
       "</pre>\n"
      ],
      "text/plain": [
       "\u001b[92mAssistant ▣\u001b[0m\n"
      ]
     },
     "metadata": {},
     "output_type": "display_data"
    },
    {
     "data": {
      "text/html": [
       "<pre style=\"white-space:pre;overflow-x:auto;line-height:normal;font-family:Menlo,'DejaVu Sans Mono',consolas,'Courier New',monospace\">Okay, thanks!  It looks like your current directory contains one file:                                             \n",
       "\n",
       "<span style=\"color: #808000; text-decoration-color: #808000; font-weight: bold\"> • </span><span style=\"color: #008080; text-decoration-color: #008080; background-color: #000000; font-weight: bold\">sample.ipynb</span>:  This appears to be a Jupyter Notebook file.                                                      \n",
       "\n",
       "Given that, what Python task are you trying to perform? Are you trying to interact with this notebook file in some \n",
       "way, or are you working on something unrelated? Knowing what you're trying to <span style=\"font-style: italic\">do</span> will help me provide more targeted\n",
       "assistance.                                                                                                        \n",
       "</pre>\n"
      ],
      "text/plain": [
       "Okay, thanks!  It looks like your current directory contains one file:                                             \n",
       "\n",
       "\u001b[1;33m • \u001b[0m\u001b[1;36;40msample.ipynb\u001b[0m:  This appears to be a Jupyter Notebook file.                                                      \n",
       "\n",
       "Given that, what Python task are you trying to perform? Are you trying to interact with this notebook file in some \n",
       "way, or are you working on something unrelated? Knowing what you're trying to \u001b[3mdo\u001b[0m will help me provide more targeted\n",
       "assistance.                                                                                                        \n"
      ]
     },
     "metadata": {},
     "output_type": "display_data"
    },
    {
     "name": "stdout",
     "output_type": "stream",
     "text": [
      "Assistant: Okay, thanks!  It looks like your current directory contains one file:\n",
      "\n",
      "*   `sample.ipynb`:  This appears to be a Jupyter Notebook file.\n",
      "\n",
      "Given that, what Python task are you trying to perform? Are you trying to interact with this notebook file in some way, or are you working on something unrelated? Knowing what you're trying to *do* will help me provide more targeted assistance.\n",
      "\n",
      "Tokens used: 1277, Cost: $0.000308\n",
      "Session saved as: API Test Session\n"
     ]
    }
   ],
   "source": [
    "from looplm.config.manager import ConfigManager\n",
    "from looplm.chat.session import ChatSession\n",
    "from looplm.chat.persistence import SessionManager\n",
    "from looplm.utils.prompts import PromptsManager\n",
    "\n",
    "def main():\n",
    "    # Setup\n",
    "    config_manager = ConfigManager()\n",
    "    config_manager.load_environment(\"bedrock\")\n",
    "\n",
    "    session_manager = SessionManager()\n",
    "    session = session_manager.create_session(\"API Test Session\")\n",
    "\n",
    "    # Set system prompt\n",
    "    prompts_manager = PromptsManager()\n",
    "    session.set_system_prompt(\"You are a helpful coding assistant.\")\n",
    "\n",
    "    try:\n",
    "        # Send messages\n",
    "        response1 = session.send_message(\n",
    "            \"Hello! Can you help me with Python?\",\n",
    "            stream=False  # Set to True for streaming\n",
    "        )\n",
    "        print(f\"Assistant: {response1}\")\n",
    "\n",
    "        # Use commands\n",
    "        response2 = session.send_message(\n",
    "            \"What's in my current directory? $(ls -la)\",\n",
    "            stream=False\n",
    "        )\n",
    "        print(f\"Assistant: {response2}\")\n",
    "\n",
    "        # Show usage stats\n",
    "        usage = session.total_usage.to_dict()\n",
    "        print(f\"Tokens used: {usage['total_tokens']}, Cost: ${usage['cost']:.6f}\")\n",
    "\n",
    "        # Save session\n",
    "        session_manager.save_session(session)\n",
    "        print(f\"Session saved as: {session.name}\")\n",
    "\n",
    "    except Exception as e:\n",
    "        print(f\"Error: {e}\")\n",
    "\n",
    "if __name__ == \"__main__\":\n",
    "    main()\n"
   ]
  },
  {
   "cell_type": "code",
   "execution_count": 28,
   "metadata": {},
   "outputs": [
    {
     "data": {
      "text/plain": [
       "Usage(completion_tokens=35, prompt_tokens=13, total_tokens=48, completion_tokens_details=CompletionTokensDetailsWrapper(accepted_prediction_tokens=None, audio_tokens=None, reasoning_tokens=0, rejected_prediction_tokens=None, text_tokens=None), prompt_tokens_details=PromptTokensDetailsWrapper(audio_tokens=None, cached_tokens=0, text_tokens=None, image_tokens=None), cache_creation_input_tokens=0, cache_read_input_tokens=0)"
      ]
     },
     "execution_count": 28,
     "metadata": {},
     "output_type": "execute_result"
    }
   ],
   "source": [
    "part.usage"
   ]
  },
  {
   "cell_type": "code",
   "execution_count": 9,
   "metadata": {},
   "outputs": [
    {
     "name": "stdout",
     "output_type": "stream",
     "text": [
      "ModelResponse(id='chatcmpl-82ee0795-aa53-49f2-86ce-ad9be3e72b57', created=1749047649, model='anthropic.claude-3-5-sonnet-20240620-v1:0', object='chat.completion', system_fingerprint=None, choices=[Choices(finish_reason='stop', index=0, message=Message(content='Hello world', role='assistant', tool_calls=None, function_call=None, provider_specific_fields=None))], usage=Usage(completion_tokens=20, prompt_tokens=10, total_tokens=30, completion_tokens_details=None, prompt_tokens_details=None))\n"
     ]
    }
   ],
   "source": [
    "pprint(response)"
   ]
  },
  {
   "cell_type": "code",
   "execution_count": null,
   "metadata": {},
   "outputs": [],
   "source": []
  }
 ],
 "metadata": {
  "kernelspec": {
   "display_name": "looplm-p1onydVx-py3.12",
   "language": "python",
   "name": "python3"
  },
  "language_info": {
   "codemirror_mode": {
    "name": "ipython",
    "version": 3
   },
   "file_extension": ".py",
   "mimetype": "text/x-python",
   "name": "python",
   "nbconvert_exporter": "python",
   "pygments_lexer": "ipython3",
   "version": "3.12.9"
  }
 },
 "nbformat": 4,
 "nbformat_minor": 4
}
